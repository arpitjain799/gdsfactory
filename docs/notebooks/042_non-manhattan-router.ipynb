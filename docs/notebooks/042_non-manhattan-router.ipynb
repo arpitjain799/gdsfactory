{
 "cells": [
  {
   "cell_type": "markdown",
   "metadata": {},
   "source": [
    "# Non manhattan routing\n",
    "\n",
    "gdsfactory provides functions to connect and route components ports that are off-grid or have non manhattan orientations (0, 90, 180, 270 degrees)\n",
    "\n",
    "## Non manhattan connections"
   ]
  },
  {
   "cell_type": "code",
   "execution_count": null,
   "metadata": {},
   "outputs": [],
   "source": [
    "import gdsfactory as gf\n",
    "from gdsfactory.decorators import has_valid_transformations\n",
    "\n",
    "\n",
    "@gf.cell\n",
    "def demo_non_manhattan():\n",
    "    c = gf.Component(\"bend\")\n",
    "    b = c << gf.components.bend_circular(angle=30)\n",
    "    s = c << gf.components.straight(length=5)\n",
    "    s.connect(\"o1\", b.ports[\"o2\"])\n",
    "    return c\n",
    "\n",
    "\n",
    "c1 = demo_non_manhattan()\n",
    "print(has_valid_transformations(c1))\n",
    "c1"
   ]
  },
  {
   "cell_type": "markdown",
   "metadata": {},
   "source": [
    "if you zoom in between the bends you will see a notch between waveguides due to non-manhattan connection between the bends.\n",
    "\n",
    "![gap](https://i.imgur.com/jBEwy9T.png)\n",
    "\n",
    "You an fix it with the `flatten_invalid_refs` flag when you call `Component.write_gds()`."
   ]
  },
  {
   "cell_type": "code",
   "execution_count": null,
   "metadata": {},
   "outputs": [],
   "source": [
    "help(c1.write_gds)"
   ]
  },
  {
   "cell_type": "code",
   "execution_count": null,
   "metadata": {},
   "outputs": [],
   "source": [
    "gdspath = c1.write_gds(flatten_invalid_refs=True)\n",
    "c2 = gf.import_gds(gdspath)\n",
    "c2"
   ]
  },
  {
   "cell_type": "code",
   "execution_count": null,
   "metadata": {},
   "outputs": [],
   "source": [
    "has_valid_transformations(c1)  # has gap issues"
   ]
  },
  {
   "cell_type": "code",
   "execution_count": null,
   "metadata": {},
   "outputs": [],
   "source": [
    "has_valid_transformations(c2)  # works perfect"
   ]
  },
  {
   "cell_type": "markdown",
   "metadata": {},
   "source": [
    "If you zoom in the connection the decorator you can see it fixed the issue in `c` that we fixed in `c2` thanks to the `flatten_invalid_refs` flag.\n",
    "\n",
    "![no gap](https://i.imgur.com/VbSgIjP.png)"
   ]
  }
 ],
 "metadata": {
  "kernelspec": {
   "display_name": "Python 3 (ipykernel)",
   "language": "python",
   "name": "python3"
  },
  "language_info": {
   "codemirror_mode": {
    "name": "ipython",
    "version": 3
   },
   "file_extension": ".py",
   "mimetype": "text/x-python",
   "name": "python",
   "nbconvert_exporter": "python",
   "pygments_lexer": "ipython3",
   "version": "3.10.6"
  }
 },
 "nbformat": 4,
 "nbformat_minor": 4
}
